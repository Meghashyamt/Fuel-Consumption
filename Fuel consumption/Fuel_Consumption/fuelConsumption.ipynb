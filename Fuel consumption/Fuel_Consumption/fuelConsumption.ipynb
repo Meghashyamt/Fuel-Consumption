{
 "cells": [
  {
   "cell_type": "code",
   "execution_count": 44,
   "metadata": {},
   "outputs": [],
   "source": [
    "# Importing libraries\n",
    "import pandas as pd\n",
    "import matplotlib.pyplot as plt"
   ]
  },
  {
   "cell_type": "code",
   "execution_count": 45,
   "metadata": {},
   "outputs": [],
   "source": [
    "# Data import\n",
    "dataset = pd.read_csv(\"Node1.csv\")"
   ]
  },
  {
   "cell_type": "code",
   "execution_count": 46,
   "metadata": {
    "scrolled": true
   },
   "outputs": [
    {
     "data": {
      "text/html": [
       "<div>\n",
       "<style scoped>\n",
       "    .dataframe tbody tr th:only-of-type {\n",
       "        vertical-align: middle;\n",
       "    }\n",
       "\n",
       "    .dataframe tbody tr th {\n",
       "        vertical-align: top;\n",
       "    }\n",
       "\n",
       "    .dataframe thead th {\n",
       "        text-align: right;\n",
       "    }\n",
       "</style>\n",
       "<table border=\"1\" class=\"dataframe\">\n",
       "  <thead>\n",
       "    <tr style=\"text-align: right;\">\n",
       "      <th></th>\n",
       "      <th>consume</th>\n",
       "      <th>distance(km)</th>\n",
       "      <th>speed(km/hr)</th>\n",
       "      <th>temp_inside</th>\n",
       "      <th>temp_outside</th>\n",
       "      <th>weight</th>\n",
       "    </tr>\n",
       "  </thead>\n",
       "  <tbody>\n",
       "    <tr>\n",
       "      <th>0</th>\n",
       "      <td>5.0</td>\n",
       "      <td>28.0</td>\n",
       "      <td>26.0</td>\n",
       "      <td>21.5</td>\n",
       "      <td>12.0</td>\n",
       "      <td>3504.0</td>\n",
       "    </tr>\n",
       "    <tr>\n",
       "      <th>1</th>\n",
       "      <td>4.2</td>\n",
       "      <td>12.0</td>\n",
       "      <td>30.0</td>\n",
       "      <td>21.5</td>\n",
       "      <td>13.0</td>\n",
       "      <td>3693.0</td>\n",
       "    </tr>\n",
       "    <tr>\n",
       "      <th>2</th>\n",
       "      <td>5.5</td>\n",
       "      <td>11.2</td>\n",
       "      <td>38.0</td>\n",
       "      <td>21.5</td>\n",
       "      <td>15.0</td>\n",
       "      <td>3436.0</td>\n",
       "    </tr>\n",
       "    <tr>\n",
       "      <th>3</th>\n",
       "      <td>3.9</td>\n",
       "      <td>12.9</td>\n",
       "      <td>36.0</td>\n",
       "      <td>21.5</td>\n",
       "      <td>14.0</td>\n",
       "      <td>3433.0</td>\n",
       "    </tr>\n",
       "    <tr>\n",
       "      <th>4</th>\n",
       "      <td>4.5</td>\n",
       "      <td>18.5</td>\n",
       "      <td>46.0</td>\n",
       "      <td>21.5</td>\n",
       "      <td>15.0</td>\n",
       "      <td>3449.0</td>\n",
       "    </tr>\n",
       "  </tbody>\n",
       "</table>\n",
       "</div>"
      ],
      "text/plain": [
       "   consume  distance(km)  speed(km/hr)  temp_inside  temp_outside  weight\n",
       "0      5.0          28.0          26.0         21.5          12.0  3504.0\n",
       "1      4.2          12.0          30.0         21.5          13.0  3693.0\n",
       "2      5.5          11.2          38.0         21.5          15.0  3436.0\n",
       "3      3.9          12.9          36.0         21.5          14.0  3433.0\n",
       "4      4.5          18.5          46.0         21.5          15.0  3449.0"
      ]
     },
     "execution_count": 46,
     "metadata": {},
     "output_type": "execute_result"
    }
   ],
   "source": [
    "# View the data\n",
    "dataset.head(5)"
   ]
  },
  {
   "cell_type": "code",
   "execution_count": 47,
   "metadata": {},
   "outputs": [
    {
     "data": {
      "text/plain": [
       "<matplotlib.collections.PathCollection at 0x7f60ef73f730>"
      ]
     },
     "execution_count": 47,
     "metadata": {},
     "output_type": "execute_result"
    },
    {
     "data": {
      "image/png": "[encoded data removed]",
      "text/plain": [
       "<Figure size 432x288 with 1 Axes>"
      ]
     },
     "metadata": {
      "needs_background": "light"
     },
     "output_type": "display_data"
    }
   ],
   "source": [
    "# Plotting\n",
    "plt.scatter(dataset.iloc[0:10,0],dataset.iloc[0:10,2])"
   ]
  },
  {
   "cell_type": "code",
   "execution_count": 25,
   "metadata": {},
   "outputs": [
    {
     "data": {
      "text/html": [
       "<div>\n",
       "<style scoped>\n",
       "    .dataframe tbody tr th:only-of-type {\n",
       "        vertical-align: middle;\n",
       "    }\n",
       "\n",
       "    .dataframe tbody tr th {\n",
       "        vertical-align: top;\n",
       "    }\n",
       "\n",
       "    .dataframe thead th {\n",
       "        text-align: right;\n",
       "    }\n",
       "</style>\n",
       "<table border=\"1\" class=\"dataframe\">\n",
       "  <thead>\n",
       "    <tr style=\"text-align: right;\">\n",
       "      <th></th>\n",
       "      <th>consume</th>\n",
       "      <th>distance(km)</th>\n",
       "      <th>speed(km/hr)</th>\n",
       "      <th>temp_inside</th>\n",
       "      <th>temp_outside</th>\n",
       "      <th>weight</th>\n",
       "    </tr>\n",
       "  </thead>\n",
       "  <tbody>\n",
       "    <tr>\n",
       "      <th>0</th>\n",
       "      <td>5.000000</td>\n",
       "      <td>28.000000</td>\n",
       "      <td>26.000000</td>\n",
       "      <td>21.5</td>\n",
       "      <td>12.000000</td>\n",
       "      <td>3504.000000</td>\n",
       "    </tr>\n",
       "    <tr>\n",
       "      <th>1</th>\n",
       "      <td>4.200000</td>\n",
       "      <td>12.000000</td>\n",
       "      <td>30.000000</td>\n",
       "      <td>21.5</td>\n",
       "      <td>13.000000</td>\n",
       "      <td>3693.000000</td>\n",
       "    </tr>\n",
       "    <tr>\n",
       "      <th>2</th>\n",
       "      <td>5.500000</td>\n",
       "      <td>11.200000</td>\n",
       "      <td>38.000000</td>\n",
       "      <td>21.5</td>\n",
       "      <td>15.000000</td>\n",
       "      <td>3436.000000</td>\n",
       "    </tr>\n",
       "    <tr>\n",
       "      <th>3</th>\n",
       "      <td>3.900000</td>\n",
       "      <td>12.900000</td>\n",
       "      <td>36.000000</td>\n",
       "      <td>21.5</td>\n",
       "      <td>14.000000</td>\n",
       "      <td>3433.000000</td>\n",
       "    </tr>\n",
       "    <tr>\n",
       "      <th>4</th>\n",
       "      <td>4.500000</td>\n",
       "      <td>18.500000</td>\n",
       "      <td>46.000000</td>\n",
       "      <td>21.5</td>\n",
       "      <td>15.000000</td>\n",
       "      <td>3449.000000</td>\n",
       "    </tr>\n",
       "    <tr>\n",
       "      <th>...</th>\n",
       "      <td>...</td>\n",
       "      <td>...</td>\n",
       "      <td>...</td>\n",
       "      <td>...</td>\n",
       "      <td>...</td>\n",
       "      <td>...</td>\n",
       "    </tr>\n",
       "    <tr>\n",
       "      <th>94</th>\n",
       "      <td>7.949412</td>\n",
       "      <td>9.381912</td>\n",
       "      <td>97.505882</td>\n",
       "      <td>21.5</td>\n",
       "      <td>-34.194118</td>\n",
       "      <td>-483.073529</td>\n",
       "    </tr>\n",
       "    <tr>\n",
       "      <th>95</th>\n",
       "      <td>7.982353</td>\n",
       "      <td>9.332353</td>\n",
       "      <td>98.176471</td>\n",
       "      <td>21.5</td>\n",
       "      <td>-34.698529</td>\n",
       "      <td>-530.580882</td>\n",
       "    </tr>\n",
       "    <tr>\n",
       "      <th>96</th>\n",
       "      <td>8.015294</td>\n",
       "      <td>9.282794</td>\n",
       "      <td>98.847059</td>\n",
       "      <td>21.5</td>\n",
       "      <td>-35.202941</td>\n",
       "      <td>-578.088235</td>\n",
       "    </tr>\n",
       "    <tr>\n",
       "      <th>97</th>\n",
       "      <td>8.048235</td>\n",
       "      <td>9.233235</td>\n",
       "      <td>99.517647</td>\n",
       "      <td>21.5</td>\n",
       "      <td>-35.707353</td>\n",
       "      <td>-625.595588</td>\n",
       "    </tr>\n",
       "    <tr>\n",
       "      <th>98</th>\n",
       "      <td>8.081176</td>\n",
       "      <td>9.183676</td>\n",
       "      <td>100.188235</td>\n",
       "      <td>21.5</td>\n",
       "      <td>-36.211765</td>\n",
       "      <td>-673.102941</td>\n",
       "    </tr>\n",
       "  </tbody>\n",
       "</table>\n",
       "<p>99 rows × 6 columns</p>\n",
       "</div>"
      ],
      "text/plain": [
       "     consume  distance(km)  speed(km/hr)  temp_inside  temp_outside  \\\n",
       "0   5.000000     28.000000     26.000000         21.5     12.000000   \n",
       "1   4.200000     12.000000     30.000000         21.5     13.000000   \n",
       "2   5.500000     11.200000     38.000000         21.5     15.000000   \n",
       "3   3.900000     12.900000     36.000000         21.5     14.000000   \n",
       "4   4.500000     18.500000     46.000000         21.5     15.000000   \n",
       "..       ...           ...           ...          ...           ...   \n",
       "94  7.949412      9.381912     97.505882         21.5    -34.194118   \n",
       "95  7.982353      9.332353     98.176471         21.5    -34.698529   \n",
       "96  8.015294      9.282794     98.847059         21.5    -35.202941   \n",
       "97  8.048235      9.233235     99.517647         21.5    -35.707353   \n",
       "98  8.081176      9.183676    100.188235         21.5    -36.211765   \n",
       "\n",
       "         weight  \n",
       "0   3504.000000  \n",
       "1   3693.000000  \n",
       "2   3436.000000  \n",
       "3   3433.000000  \n",
       "4   3449.000000  \n",
       "..          ...  \n",
       "94  -483.073529  \n",
       "95  -530.580882  \n",
       "96  -578.088235  \n",
       "97  -625.595588  \n",
       "98  -673.102941  \n",
       "\n",
       "[99 rows x 6 columns]"
      ]
     },
     "execution_count": 25,
     "metadata": {},
     "output_type": "execute_result"
    }
   ],
   "source": [
    "# View the full data\n",
    "dataset"
   ]
  },
  {
   "cell_type": "code",
   "execution_count": 26,
   "metadata": {},
   "outputs": [],
   "source": [
    "y=dataset.iloc[: , 0]   # Dependent variable -Target"
   ]
  },
  {
   "cell_type": "code",
   "execution_count": 27,
   "metadata": {},
   "outputs": [
    {
     "data": {
      "text/plain": [
       "0     5.000000\n",
       "1     4.200000\n",
       "2     5.500000\n",
       "3     3.900000\n",
       "4     4.500000\n",
       "        ...   \n",
       "94    7.949412\n",
       "95    7.982353\n",
       "96    8.015294\n",
       "97    8.048235\n",
       "98    8.081176\n",
       "Name: consume, Length: 99, dtype: float64"
      ]
     },
     "execution_count": 27,
     "metadata": {},
     "output_type": "execute_result"
    }
   ],
   "source": [
    "y"
   ]
  },
  {
   "cell_type": "code",
   "execution_count": 28,
   "metadata": {},
   "outputs": [],
   "source": [
    "X=dataset.iloc[:,1:6]  # Independent variable(Input)"
   ]
  },
  {
   "cell_type": "code",
   "execution_count": 29,
   "metadata": {
    "scrolled": true
   },
   "outputs": [
    {
     "data": {
      "text/html": [
       "<div>\n",
       "<style scoped>\n",
       "    .dataframe tbody tr th:only-of-type {\n",
       "        vertical-align: middle;\n",
       "    }\n",
       "\n",
       "    .dataframe tbody tr th {\n",
       "        vertical-align: top;\n",
       "    }\n",
       "\n",
       "    .dataframe thead th {\n",
       "        text-align: right;\n",
       "    }\n",
       "</style>\n",
       "<table border=\"1\" class=\"dataframe\">\n",
       "  <thead>\n",
       "    <tr style=\"text-align: right;\">\n",
       "      <th></th>\n",
       "      <th>distance(km)</th>\n",
       "      <th>speed(km/hr)</th>\n",
       "      <th>temp_inside</th>\n",
       "      <th>temp_outside</th>\n",
       "      <th>weight</th>\n",
       "    </tr>\n",
       "  </thead>\n",
       "  <tbody>\n",
       "    <tr>\n",
       "      <th>0</th>\n",
       "      <td>28.000000</td>\n",
       "      <td>26.000000</td>\n",
       "      <td>21.5</td>\n",
       "      <td>12.000000</td>\n",
       "      <td>3504.000000</td>\n",
       "    </tr>\n",
       "    <tr>\n",
       "      <th>1</th>\n",
       "      <td>12.000000</td>\n",
       "      <td>30.000000</td>\n",
       "      <td>21.5</td>\n",
       "      <td>13.000000</td>\n",
       "      <td>3693.000000</td>\n",
       "    </tr>\n",
       "    <tr>\n",
       "      <th>2</th>\n",
       "      <td>11.200000</td>\n",
       "      <td>38.000000</td>\n",
       "      <td>21.5</td>\n",
       "      <td>15.000000</td>\n",
       "      <td>3436.000000</td>\n",
       "    </tr>\n",
       "    <tr>\n",
       "      <th>3</th>\n",
       "      <td>12.900000</td>\n",
       "      <td>36.000000</td>\n",
       "      <td>21.5</td>\n",
       "      <td>14.000000</td>\n",
       "      <td>3433.000000</td>\n",
       "    </tr>\n",
       "    <tr>\n",
       "      <th>4</th>\n",
       "      <td>18.500000</td>\n",
       "      <td>46.000000</td>\n",
       "      <td>21.5</td>\n",
       "      <td>15.000000</td>\n",
       "      <td>3449.000000</td>\n",
       "    </tr>\n",
       "    <tr>\n",
       "      <th>...</th>\n",
       "      <td>...</td>\n",
       "      <td>...</td>\n",
       "      <td>...</td>\n",
       "      <td>...</td>\n",
       "      <td>...</td>\n",
       "    </tr>\n",
       "    <tr>\n",
       "      <th>94</th>\n",
       "      <td>9.381912</td>\n",
       "      <td>97.505882</td>\n",
       "      <td>21.5</td>\n",
       "      <td>-34.194118</td>\n",
       "      <td>-483.073529</td>\n",
       "    </tr>\n",
       "    <tr>\n",
       "      <th>95</th>\n",
       "      <td>9.332353</td>\n",
       "      <td>98.176471</td>\n",
       "      <td>21.5</td>\n",
       "      <td>-34.698529</td>\n",
       "      <td>-530.580882</td>\n",
       "    </tr>\n",
       "    <tr>\n",
       "      <th>96</th>\n",
       "      <td>9.282794</td>\n",
       "      <td>98.847059</td>\n",
       "      <td>21.5</td>\n",
       "      <td>-35.202941</td>\n",
       "      <td>-578.088235</td>\n",
       "    </tr>\n",
       "    <tr>\n",
       "      <th>97</th>\n",
       "      <td>9.233235</td>\n",
       "      <td>99.517647</td>\n",
       "      <td>21.5</td>\n",
       "      <td>-35.707353</td>\n",
       "      <td>-625.595588</td>\n",
       "    </tr>\n",
       "    <tr>\n",
       "      <th>98</th>\n",
       "      <td>9.183676</td>\n",
       "      <td>100.188235</td>\n",
       "      <td>21.5</td>\n",
       "      <td>-36.211765</td>\n",
       "      <td>-673.102941</td>\n",
       "    </tr>\n",
       "  </tbody>\n",
       "</table>\n",
       "<p>99 rows × 5 columns</p>\n",
       "</div>"
      ],
      "text/plain": [
       "    distance(km)  speed(km/hr)  temp_inside  temp_outside       weight\n",
       "0      28.000000     26.000000         21.5     12.000000  3504.000000\n",
       "1      12.000000     30.000000         21.5     13.000000  3693.000000\n",
       "2      11.200000     38.000000         21.5     15.000000  3436.000000\n",
       "3      12.900000     36.000000         21.5     14.000000  3433.000000\n",
       "4      18.500000     46.000000         21.5     15.000000  3449.000000\n",
       "..           ...           ...          ...           ...          ...\n",
       "94      9.381912     97.505882         21.5    -34.194118  -483.073529\n",
       "95      9.332353     98.176471         21.5    -34.698529  -530.580882\n",
       "96      9.282794     98.847059         21.5    -35.202941  -578.088235\n",
       "97      9.233235     99.517647         21.5    -35.707353  -625.595588\n",
       "98      9.183676    100.188235         21.5    -36.211765  -673.102941\n",
       "\n",
       "[99 rows x 5 columns]"
      ]
     },
     "execution_count": 29,
     "metadata": {},
     "output_type": "execute_result"
    }
   ],
   "source": [
    "X"
   ]
  },
  {
   "cell_type": "code",
   "execution_count": 30,
   "metadata": {},
   "outputs": [],
   "source": [
    "# Scikit learn module used\n",
    "from sklearn.model_selection import train_test_split\n"
   ]
  },
  {
   "cell_type": "code",
   "execution_count": 31,
   "metadata": {},
   "outputs": [],
   "source": [
    "X_train, X_test, y_train, y_test = train_test_split(X, y, test_size=0.20, random_state=42)\n"
   ]
  },
  {
   "cell_type": "code",
   "execution_count": 32,
   "metadata": {},
   "outputs": [],
   "source": [
    "from sklearn.linear_model import LinearRegression\n",
    "# Preditive Analysis -Regression Algorithm"
   ]
  },
  {
   "cell_type": "code",
   "execution_count": 33,
   "metadata": {},
   "outputs": [],
   "source": [
    "model = LinearRegression()\n"
   ]
  },
  {
   "cell_type": "code",
   "execution_count": 34,
   "metadata": {},
   "outputs": [],
   "source": [
    "A=model.fit(X_train ,y_train)\n",
    "# Training the data(80 percent)"
   ]
  },
  {
   "cell_type": "code",
   "execution_count": 35,
   "metadata": {},
   "outputs": [
    {
     "data": {
      "text/plain": [
       "LinearRegression()"
      ]
     },
     "execution_count": 35,
     "metadata": {},
     "output_type": "execute_result"
    }
   ],
   "source": [
    "A"
   ]
  },
  {
   "cell_type": "code",
   "execution_count": 36,
   "metadata": {},
   "outputs": [
    {
     "data": {
      "text/plain": [
       "array([6.88990606, 6.15025446, 7.99938345, 5.41060287, 8.0666245 ,\n",
       "       7.62955765, 6.95714711, 6.21749552, 5.43292286, 4.13079914,\n",
       "       5.84766972, 7.36059344, 6.38559815, 5.67956708, 6.28473657,\n",
       "       4.68605448, 5.54508497, 5.48507635, 7.76403976, 7.25973185])"
      ]
     },
     "execution_count": 36,
     "metadata": {},
     "output_type": "execute_result"
    }
   ],
   "source": [
    "# Prediction\n",
    "model.predict(X_test)   # Independent test data (20 percent)"
   ]
  },
  {
   "cell_type": "code",
   "execution_count": 37,
   "metadata": {},
   "outputs": [
    {
     "data": {
      "text/plain": [
       "62    6.895294\n",
       "40    6.170588\n",
       "95    7.982353\n",
       "18    5.445882\n",
       "97    8.048235\n",
       "84    7.620000\n",
       "64    6.961176\n",
       "42    6.236471\n",
       "10    5.600000\n",
       "0     5.000000\n",
       "31    5.874118\n",
       "76    7.356471\n",
       "47    6.401176\n",
       "26    5.709412\n",
       "44    6.302353\n",
       "4     4.500000\n",
       "22    5.577647\n",
       "12    5.900000\n",
       "88    7.751765\n",
       "73    7.257647\n",
       "Name: consume, dtype: float64"
      ]
     },
     "execution_count": 37,
     "metadata": {},
     "output_type": "execute_result"
    }
   ],
   "source": [
    "y_test  # Actual output test data"
   ]
  },
  {
   "cell_type": "code",
   "execution_count": 38,
   "metadata": {},
   "outputs": [],
   "source": [
    "# Representation /visualization\n",
    "import matplotlib.pyplot as plt\n"
   ]
  },
  {
   "cell_type": "code",
   "execution_count": 39,
   "metadata": {},
   "outputs": [
    {
     "data": {
      "text/plain": [
       "<matplotlib.collections.PathCollection at 0x7f60ef6d3730>"
      ]
     },
     "execution_count": 39,
     "metadata": {},
     "output_type": "execute_result"
    },
    {
     "data": {
      "image/png": "[encoded data removed]",
      "text/plain": [
       "<Figure size 432x288 with 1 Axes>"
      ]
     },
     "metadata": {
      "needs_background": "light"
     },
     "output_type": "display_data"
    }
   ],
   "source": [
    "plt.scatter(y_test,model.predict(X_test))"
   ]
  },
  {
   "cell_type": "code",
   "execution_count": 40,
   "metadata": {},
   "outputs": [
    {
     "name": "stdout",
     "output_type": "stream",
     "text": [
      "98% Confident it is User\n"
     ]
    }
   ],
   "source": [
    "# Confidence /score prediction value\n",
    "results = model.predict(X_test)\n",
    "confidence = int( 100 * (1 - (results[1])/385) )\n",
    "display_string = str(confidence) + '% Confident it is User'\n",
    "print(display_string)"
   ]
  },
  {
   "cell_type": "code",
   "execution_count": 41,
   "metadata": {},
   "outputs": [
    {
     "data": {
      "text/plain": [
       "array([-0.03485609,  0.01978595,  0.        , -0.05389527,  0.00018019])"
      ]
     },
     "execution_count": 41,
     "metadata": {},
     "output_type": "execute_result"
    }
   ],
   "source": [
    "model.coef_  # slope coefficient"
   ]
  },
  {
   "cell_type": "code",
   "execution_count": 42,
   "metadata": {},
   "outputs": [
    {
     "name": "stderr",
     "output_type": "stream",
     "text": [
      "/home/shyam/anaconda3/envs/Myenv/lib/python3.10/site-packages/sklearn/base.py:450: UserWarning: X does not have valid feature names, but LinearRegression was fitted with feature names\n",
      "  warnings.warn(\n"
     ]
    },
    {
     "data": {
      "text/plain": [
       "array([3.07025555])"
      ]
     },
     "execution_count": 42,
     "metadata": {},
     "output_type": "execute_result"
    }
   ],
   "source": [
    "model.predict([[23,12,21.3,21.4,1000]]) # Predicted outcome"
   ]
  },
  {
   "cell_type": "code",
   "execution_count": null,
   "metadata": {},
   "outputs": [],
   "source": []
  }
 ],
 "metadata": {
  "kernelspec": {
   "display_name": "Python 3",
   "language": "python",
   "name": "python3"
  },
  "language_info": {
   "codemirror_mode": {
    "name": "ipython",
    "version": 3
   },
   "file_extension": ".py",
   "mimetype": "text/x-python",
   "name": "python",
   "nbconvert_exporter": "python",
   "pygments_lexer": "ipython3",
   "version": "3.10.0"
  }
 },
 "nbformat": 4,
 "nbformat_minor": 2
}
